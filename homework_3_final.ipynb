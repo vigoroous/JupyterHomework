{
 "cells": [
  {
   "cell_type": "markdown",
   "id": "0a8de3a2",
   "metadata": {},
   "source": [
    "# ДЗ 3. API VK"
   ]
  },
  {
   "cell_type": "markdown",
   "id": "7eb6acad",
   "metadata": {},
   "source": [
    "## VK API введение"
   ]
  },
  {
   "cell_type": "markdown",
   "id": "cdb51d24",
   "metadata": {},
   "source": [
    "Методы API, которые могут использоваться при работе с VK доступны по ссылке [API methods | Developers (vk.com)](https://vk.com/dev/methods). Этой ссылкой мы будем пользоваться постоянно. Каким образом будет продемонстировано далее."
   ]
  },
  {
   "cell_type": "markdown",
   "id": "1b316fcf",
   "metadata": {},
   "source": [
    "Для простоты работы с VK API предлагаем воспользоваться библиотекой vk_api, которая представляет собой обертку для Python над функциями VK API и готова к использованию. Документация к библиотеке доступна тут - [Документация vk_api — vk_api 11.9.4 documentation (vk-api.readthedocs.io)](https://vk-api.readthedocs.io/en/latest/)."
   ]
  },
  {
   "cell_type": "markdown",
   "id": "35222c01",
   "metadata": {},
   "source": [
    "Установка vk_api является стандартной и выполняется при помощи pip install"
   ]
  },
  {
   "cell_type": "code",
   "execution_count": null,
   "id": "c7b0dd52",
   "metadata": {
    "scrolled": true
   },
   "outputs": [],
   "source": [
    "!pip install vk_api"
   ]
  },
  {
   "cell_type": "markdown",
   "id": "b0bbcfa5",
   "metadata": {},
   "source": [
    "## Получение доступа к выполнению запросов к VK API"
   ]
  },
  {
   "cell_type": "markdown",
   "id": "3669f697",
   "metadata": {},
   "source": [
    "Для получения информации о страницах, группах и т.д. VK требует авторизацию (точно так же как и с простым просмотром через браузер), поэтому необходимо показать VK, что у вас есть такое право. Достигается это при помощи точно такой же авторизации, какую вы выполняете через браузер или телефон, путем ввода логина и пароля."
   ]
  },
  {
   "cell_type": "markdown",
   "id": "9b4de3f0",
   "metadata": {},
   "source": [
    "Для начала импортируем библиотеку vk_api"
   ]
  },
  {
   "cell_type": "code",
   "execution_count": null,
   "id": "0e362f30",
   "metadata": {},
   "outputs": [],
   "source": [
    "import vk_api"
   ]
  },
  {
   "cell_type": "markdown",
   "id": "178f7527",
   "metadata": {},
   "source": [
    "Теперь создадим объект сессии VK, указав для нее наш логин и пароль и попросим VK авторизовать нас."
   ]
  },
  {
   "cell_type": "code",
   "execution_count": null,
   "id": "f1551a8e",
   "metadata": {},
   "outputs": [],
   "source": [
    "login = ''\n",
    "password = ''\n",
    "\n",
    "vk_session = vk_api.VkApi(login, password)\n",
    "vk_session.auth()"
   ]
  },
  {
   "cell_type": "markdown",
   "id": "7706bd45",
   "metadata": {},
   "source": [
    "Теперь, выполнив авторизацию и получив право выполнять методы API, получим объект, который позволит нам работать с API."
   ]
  },
  {
   "cell_type": "code",
   "execution_count": null,
   "id": "f3af3810",
   "metadata": {},
   "outputs": [],
   "source": [
    "vk = vk_session.get_api()"
   ]
  },
  {
   "cell_type": "markdown",
   "id": "6ee22337",
   "metadata": {},
   "source": [
    "## Как этим пользоваться"
   ]
  },
  {
   "cell_type": "markdown",
   "id": "2086f01e",
   "metadata": {},
   "source": [
    "Теперь посмотрим какие методы нам доступны. Эта информация прописана на странице VK для разработчиков -  [API methods | Developers (vk.com)](https://vk.com/dev/methods)."
   ]
  },
  {
   "cell_type": "markdown",
   "id": "98cd7810",
   "metadata": {},
   "source": [
    "Попробуем отыскать в этом обилии метод, который позволит нам получить пост по его идентификатору."
   ]
  },
  {
   "cell_type": "markdown",
   "id": "132a2894",
   "metadata": {},
   "source": [
    "Для начала, что такое идентификатор поста?"
   ]
  },
  {
   "cell_type": "markdown",
   "id": "070ec719",
   "metadata": {},
   "source": [
    "Идентификатор поста это те циферки, которые видно, когда вы открываете этот пост."
   ]
  },
  {
   "cell_type": "markdown",
   "id": "c4abfe9c",
   "metadata": {},
   "source": [
    "Например:"
   ]
  },
  {
   "cell_type": "markdown",
   "id": "4b4b0861",
   "metadata": {},
   "source": [
    "![Untitled](https://github.com/hse-python-jour/hse_intro_to_data_journalism/blob/main/images/hw3/1.png?raw=true)"
   ]
  },
  {
   "cell_type": "markdown",
   "id": "3854e6aa",
   "metadata": {},
   "source": [
    "Идентификатором будет все, что стоит после слова wall. В данном случае он равен -41670861_2507472 (кстати, отрицательное число (-41670861) представляет собой идентификатор для групп, в то время как положительные идентификаторы представляют собой индентификатор для стен пользователей)."
   ]
  },
  {
   "cell_type": "markdown",
   "id": "fed14700",
   "metadata": {},
   "source": [
    "Теперь, зная этот идентификатор нам нужно как-то получить этот пост и загрузить его в питон. Вооружившись кружкой чая, гуглом и терпением обнаруживаем, что VK предоставляет именно тот метод, который нам нужен [wall.getById | Developers (vk.com)](https://vk.com/dev/wall.getById). На странице с описанием этого метода мы можем посмотреть на параметры, которые принимает этот метод"
   ]
  },
  {
   "cell_type": "markdown",
   "id": "c3a561b0",
   "metadata": {},
   "source": [
    "![Untitled](https://github.com/hse-python-jour/hse_intro_to_data_journalism/blob/main/images/hw3/2.png?raw=true)"
   ]
  },
  {
   "cell_type": "markdown",
   "id": "71b0dc31",
   "metadata": {},
   "source": [
    "Из описания параметров видим, что для получения информации о посте (или даже постах) нам нужно передать идентификаторы постов через запятые в параметр **posts**."
   ]
  },
  {
   "cell_type": "markdown",
   "id": "f424af6a",
   "metadata": {},
   "source": [
    "Итого, мы знаем что есть некий параметр posts, а так же имеем ссылку на страницу с документацией. Как нам теперь ~~со всем этим взлететь~~ этим воспользоваться?"
   ]
  },
  {
   "cell_type": "markdown",
   "id": "2faf09d9",
   "metadata": {},
   "source": [
    "Обратите внимание на то, как в ссылке значится этот метод - wall.getById"
   ]
  },
  {
   "cell_type": "markdown",
   "id": "414318cb",
   "metadata": {},
   "source": [
    "![Untitled](https://github.com/hse-python-jour/hse_intro_to_data_journalism/blob/main/images/hw3/3.png?raw=true)"
   ]
  },
  {
   "cell_type": "markdown",
   "id": "3bb32049",
   "metadata": {},
   "source": [
    "vk_api дает нам возможность вызывать этот метод напрямую из объекта API (в нашем случае vk, который мы создали ранее) и передать в него параметры, которые указаны на странице с документацией"
   ]
  },
  {
   "cell_type": "code",
   "execution_count": null,
   "id": "aecf9afb",
   "metadata": {
    "scrolled": true
   },
   "outputs": [],
   "source": [
    "vk.wall.getById(posts='-41670861_2507472') # vk.com/dev/wall.getById"
   ]
  },
  {
   "cell_type": "markdown",
   "id": "fb5d1603",
   "metadata": {},
   "source": [
    "В ответ нам вернется список словарей (для каждого из идентификатора, который был передан в параметр posts), которые содержат информацию о посте. Если был указан лишь один идентификатор, то список будет содержать лишь один словарь. Далее можно приступать к работе с полученными данными."
   ]
  },
  {
   "cell_type": "markdown",
   "id": "1a03f6d0",
   "metadata": {},
   "source": [
    "## Задания"
   ]
  },
  {
   "cell_type": "markdown",
   "id": "a2cfcb82",
   "metadata": {},
   "source": [
    "### Задание 1 (0.5)"
   ]
  },
  {
   "cell_type": "markdown",
   "id": "204fbf13",
   "metadata": {},
   "source": [
    "Найдите нужный метод в документации и получите 300 постов из вашей любимой группы ВК. По итогу должен получиться список из словарей, которые содержат информацию о посте (именно о посте, а не о результате запроса, который возвращается из метода)"
   ]
  },
  {
   "cell_type": "code",
   "execution_count": null,
   "id": "bb91c5f6",
   "metadata": {},
   "outputs": [],
   "source": [
    "posts = #╰( ͡° ͜ʖ ͡° )つ──☆*:\n",
    "\n",
    "print(\"Totally got: {} posts\".format(posts[\"count\"]))\n",
    "\n",
    "posts_list = # (￣^￣)ゞ\n",
    "\n",
    "print(posts_list[0])"
   ]
  },
  {
   "cell_type": "markdown",
   "id": "f3fdbfd1",
   "metadata": {},
   "source": [
    "### Задание 2 (2.5)"
   ]
  },
  {
   "cell_type": "markdown",
   "id": "8cc2213c",
   "metadata": {},
   "source": [
    "Допишите функцию, которая преобразует словарь для одного поста в словарь с ключами для текста поста, ссылкой на изображение в самом высоком разрешении (если есть, иначе пустая строка), количество комментариев, количество лайков, количество репостов, дату поста.\n",
    "\n",
    "Если изображений в посте несколько, все равно возьмите то, у которого самое высокое разрешение."
   ]
  },
  {
   "cell_type": "markdown",
   "id": "84afa89a",
   "metadata": {},
   "source": [
    "Проверьте, что функция корректно отрабатывает на одном любом посте из списка, который вы получили в предыдущем задании"
   ]
  },
  {
   "cell_type": "code",
   "execution_count": null,
   "id": "6e5a4aae",
   "metadata": {},
   "outputs": [],
   "source": [
    "from datetime import datetime\n",
    "from typing import Dict, Any\n",
    "\n",
    "\n",
    "def transform(post: Dict[str, Any]) -> Dict[str, Any]:\n",
    "    # для преобразования чиселки из поля date\n",
    "    # во время, вам возможно поможет datetime.fromtimestamp\n",
    "    pictures = list(\n",
    "        map(\n",
    "            lambda x: x[\"photo\"],\n",
    "            filter(\n",
    "                lambda x: x and x[\"type\"] == \"photo\",\n",
    "                post.get(\"attachments\") or [],\n",
    "            ),\n",
    "        )\n",
    "    )\n",
    "    # YOUR CODE HERE (੭•̀ω•́)੭̸*✩⁺˚\n",
    "    for pic in pictures:\n",
    "        # YOUR CODE HERE ‿︵‿︵ヽ(°□° )ノ︵‿︵‿\n",
    "    \n",
    "    return # YOUR CODE HERE (∩ ￣ー￣)⊃ ✳✨✳✨✳✨✳"
   ]
  },
  {
   "cell_type": "markdown",
   "id": "1e13486d",
   "metadata": {},
   "source": [
    "### Задание 3 (0.5)"
   ]
  },
  {
   "cell_type": "markdown",
   "id": "ddf9b319",
   "metadata": {},
   "source": [
    "При помощи функции map и функции, которую вы написали на предыдущем этапе, обработайте весь список из задания 1 и создайте новый обработанный список"
   ]
  },
  {
   "cell_type": "code",
   "execution_count": null,
   "id": "3ee62ab3",
   "metadata": {},
   "outputs": [],
   "source": [
    "preprocessed_posts = # YOUR CODE HERE (´◕▽◕)⊃━☆"
   ]
  },
  {
   "cell_type": "markdown",
   "id": "2cb65fd0",
   "metadata": {},
   "source": [
    "### Задание 4 (0.5)"
   ]
  },
  {
   "cell_type": "markdown",
   "id": "f0769c94",
   "metadata": {},
   "source": [
    "При помощи Pandas создайте и сохраните в формат csv датасет последних 300 постов из вашей любимой группы ВК со следующими колонками: текст поста, ссылка на изображение в самом высоком разрешении (если есть, иначе пустая строка), количество комментариев, количество лайков, количество репостов, дату поста"
   ]
  },
  {
   "cell_type": "code",
   "execution_count": null,
   "id": "da961892",
   "metadata": {
    "scrolled": false
   },
   "outputs": [],
   "source": [
    "import pandas as pd\n",
    "\n",
    "df = # YOUR CODE HERE (∩ᄑ_ᄑ)⊃━☆ﾟ*･｡*"
   ]
  },
  {
   "cell_type": "markdown",
   "id": "8005a148",
   "metadata": {},
   "source": [
    "### Задание 5 (0.5)"
   ]
  },
  {
   "cell_type": "markdown",
   "id": "e3402e55",
   "metadata": {},
   "source": [
    "Преобразуйте датасет из задания 4 так, чтобы в нем появилась новая колонка с указанием времени суток в которое было опубликован пост и новая колонка с указанием дня недели (см. datetime), постарайтесь избегать прямого использования циклов Python, попытайтесь решить задание лишь с помощью методов, которые предлагаются Pandas."
   ]
  },
  {
   "cell_type": "code",
   "execution_count": null,
   "id": "c010b043",
   "metadata": {
    "scrolled": false
   },
   "outputs": [],
   "source": [
    "df[\"day_week\"] = # YOUR CODE HERE (>ω<)ノ—==ΞΞ☆*✲ﾟ"
   ]
  },
  {
   "cell_type": "markdown",
   "id": "6ea5fc02",
   "metadata": {},
   "source": [
    "### Задание 6 (0.5)"
   ]
  },
  {
   "cell_type": "markdown",
   "id": "650e9c5a",
   "metadata": {},
   "source": [
    "При помощи меотда hist ([pandas.DataFrame.hist — pandas 1.3.4 documentation (pydata.org)](https://pandas.pydata.org/pandas-docs/stable/reference/api/pandas.DataFrame.hist.html)) постройте гистограммы с распределением постинга постов по времени суток и с распределением постов по дням недели"
   ]
  },
  {
   "cell_type": "code",
   "execution_count": null,
   "id": "8f783f51",
   "metadata": {},
   "outputs": [],
   "source": [
    "# YOUR CODE HERE (∩｀-´)⊃━☆ﾟ.*･｡ﾟ"
   ]
  },
  {
   "cell_type": "markdown",
   "id": "3f22ec4d",
   "metadata": {},
   "source": [
    "### Задание 7 (2.5)"
   ]
  },
  {
   "cell_type": "markdown",
   "id": "b2546e2d",
   "metadata": {},
   "source": [
    "Из датасета получите список всех описаний постов, при помощи команд replace и split преобразуйте все посты в список из слов."
   ]
  },
  {
   "cell_type": "code",
   "execution_count": null,
   "id": "c8d47a9c",
   "metadata": {},
   "outputs": [],
   "source": [
    "import string\n",
    "from typing import List\n",
    "\n",
    "\n",
    "punctuation_tokens = string.punctuation  # получаем все знаки пунктуации\n",
    "\n",
    "\n",
    "def get_wordlist(texts: List[str]) -> List[str]:\n",
    "    # получаем на вход список текстов\n",
    "    # удаляем пунктуацию, разбиваем на слова\n",
    "    # возвращаем список всех слов\n",
    "    \n",
    "    all_words = []\n",
    "    \n",
    "    # YOUR CODE HERE ༼つ ಠ益ಠ༽つ ─=≡ΣO))\n",
    "    \n",
    "    return all_words"
   ]
  },
  {
   "cell_type": "code",
   "execution_count": null,
   "id": "a0ae4a16",
   "metadata": {},
   "outputs": [],
   "source": [
    "all_words = # YOUR CODE HERE ༼つ ಠ益ಠ༽つ ─=≡ΣO))"
   ]
  },
  {
   "cell_type": "markdown",
   "id": "2d298937",
   "metadata": {},
   "source": [
    "### Задание 8 (0.5)"
   ]
  },
  {
   "cell_type": "markdown",
   "id": "6c378320",
   "metadata": {},
   "source": [
    "При помощи списка из задания 7 постройте частотный словарь для вашей любимой группы, и выведите топ-20 слов с указанием их частотности"
   ]
  },
  {
   "cell_type": "code",
   "execution_count": null,
   "id": "e0fe29ec",
   "metadata": {},
   "outputs": [],
   "source": [
    "from collections import Counter\n",
    "\n",
    "# YOUR MAGIC HERE (≧ ◡ ≦)━★☆.*･｡ﾟ"
   ]
  },
  {
   "cell_type": "markdown",
   "id": "7a6de84c",
   "metadata": {},
   "source": [
    "### Задание 9 (2)"
   ]
  },
  {
   "cell_type": "markdown",
   "id": "f48b109c",
   "metadata": {},
   "source": [
    "При помощи VK API получите комментарии (не менее 100) к любому посту и повторите задания 7 и 8."
   ]
  },
  {
   "cell_type": "code",
   "execution_count": null,
   "id": "a420fa17",
   "metadata": {},
   "outputs": [],
   "source": [
    "# YOUR CODE HERE ┐_(ツ)_┌━☆ﾟ.*･｡ﾟ"
   ]
  },
  {
   "cell_type": "code",
   "execution_count": null,
   "id": "55cadd59",
   "metadata": {},
   "outputs": [],
   "source": []
  }
 ],
 "metadata": {
  "kernelspec": {
   "display_name": "Python 3",
   "language": "python",
   "name": "python3"
  },
  "language_info": {
   "codemirror_mode": {
    "name": "ipython",
    "version": 3
   },
   "file_extension": ".py",
   "mimetype": "text/x-python",
   "name": "python",
   "nbconvert_exporter": "python",
   "pygments_lexer": "ipython3",
   "version": "3.8.5"
  }
 },
 "nbformat": 4,
 "nbformat_minor": 5
}
